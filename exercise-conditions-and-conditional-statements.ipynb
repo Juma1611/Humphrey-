{
 "cells": [
  {
   "cell_type": "markdown",
   "id": "61aa2e76",
   "metadata": {
    "papermill": {
     "duration": 0.005481,
     "end_time": "2025-03-19T04:41:42.362762",
     "exception": false,
     "start_time": "2025-03-19T04:41:42.357281",
     "status": "completed"
    },
    "tags": []
   },
   "source": [
    "**This notebook is an exercise in the [Intro to Programming](https://www.kaggle.com/learn/intro-to-programming) course.  You can reference the tutorial at [this link](https://www.kaggle.com/alexisbcook/conditions-and-conditional-statements).**\n",
    "\n",
    "---\n"
   ]
  },
  {
   "cell_type": "markdown",
   "id": "63946b5b",
   "metadata": {
    "papermill": {
     "duration": 0.004066,
     "end_time": "2025-03-19T04:41:42.375380",
     "exception": false,
     "start_time": "2025-03-19T04:41:42.371314",
     "status": "completed"
    },
    "tags": []
   },
   "source": [
    "In the tutorial, you learned about conditions and conditional statements. In this exercise, you will use what you learned to answer several questions.\n",
    "\n",
    "# Set up the notebook\n",
    "\n",
    "Run the next code cell without changes to set up the notebook."
   ]
  },
  {
   "cell_type": "code",
   "execution_count": 1,
   "id": "6441741d",
   "metadata": {
    "execution": {
     "iopub.execute_input": "2025-03-19T04:41:42.383934Z",
     "iopub.status.busy": "2025-03-19T04:41:42.383670Z",
     "iopub.status.idle": "2025-03-19T04:41:43.320522Z",
     "shell.execute_reply": "2025-03-19T04:41:43.319626Z"
    },
    "papermill": {
     "duration": 0.942547,
     "end_time": "2025-03-19T04:41:43.321741",
     "exception": false,
     "start_time": "2025-03-19T04:41:42.379194",
     "status": "completed"
    },
    "tags": []
   },
   "outputs": [
    {
     "name": "stdout",
     "output_type": "stream",
     "text": [
      "Setup complete.\n"
     ]
    }
   ],
   "source": [
    "from learntools.core import binder\n",
    "binder.bind(globals())\n",
    "from learntools.intro_to_programming.ex4 import *\n",
    "print('Setup complete.')"
   ]
  },
  {
   "cell_type": "markdown",
   "id": "045e6a1e",
   "metadata": {
    "papermill": {
     "duration": 0.003714,
     "end_time": "2025-03-19T04:41:43.329851",
     "exception": false,
     "start_time": "2025-03-19T04:41:43.326137",
     "status": "completed"
    },
    "tags": []
   },
   "source": [
    "# Question 1\n",
    "\n",
    "You work at a college admissions office.  When inspecting a dataset of college applicants, you notice that some students have represented their grades with letters (`\"A\"`, `\"B\"`, `\"C\"`, `\"D\"`, `\"F\"`), whereas others have represented their grades with a number between 0 and 100.\n",
    "\n",
    "You realize that for consistency, all of the grades should be formatted in the same way, and you decide to format them all as letters.  For the conversion, you decide to assign:\n",
    "- `\"A\"` - any grade 90-100, inclusive\n",
    "- `\"B\"` - any grade 80-89, inclusive\n",
    "- `\"C\"` - any grade 70-79, inclusive\n",
    "- `\"D\"` - any grade 60-69, inclusive\n",
    "- `\"F\"` - any grade <60\n",
    "\n",
    "Write a function `get_grade()` that takes as input:\n",
    "- `score` - an integer 0-100 corresponding to a numerical grade\n",
    "\n",
    "It should return a Python string with the letter grade that it corresponds to.  For instance,\n",
    "- A score of 85 corresponds to a B grade.  In other words, `get_grade(85)` should return `\"B\"`.\n",
    "- A score of 49 corresponds to an F grade.  In other words, `get_grade(49)` should return `\"F\"`.\n",
    "\n",
    "Make sure that when supplying the grade that is returned by the function, it is enclosed in quotes.  (For instance, if you want to return `\"A\"`, you should write `return \"A\"` and not `return A`.)"
   ]
  },
  {
   "cell_type": "code",
   "execution_count": 2,
   "id": "4d7508e8",
   "metadata": {
    "execution": {
     "iopub.execute_input": "2025-03-19T04:41:43.338909Z",
     "iopub.status.busy": "2025-03-19T04:41:43.338541Z",
     "iopub.status.idle": "2025-03-19T04:41:43.346605Z",
     "shell.execute_reply": "2025-03-19T04:41:43.345786Z"
    },
    "papermill": {
     "duration": 0.01379,
     "end_time": "2025-03-19T04:41:43.347696",
     "exception": false,
     "start_time": "2025-03-19T04:41:43.333906",
     "status": "completed"
    },
    "tags": []
   },
   "outputs": [
    {
     "data": {
      "application/javascript": [
       "parent.postMessage({\"jupyterEvent\": \"custom.exercise_interaction\", \"data\": {\"outcomeType\": 1, \"valueTowardsCompletion\": 0.2, \"interactionType\": 1, \"questionType\": 2, \"questionId\": \"1_GetGrade\", \"learnToolsVersion\": \"0.3.4\", \"failureMessage\": \"\", \"exceptionClass\": \"\", \"trace\": \"\"}}, \"*\")"
      ],
      "text/plain": [
       "<IPython.core.display.Javascript object>"
      ]
     },
     "metadata": {},
     "output_type": "display_data"
    },
    {
     "data": {
      "text/markdown": [
       "<span style=\"color:#33cc33\">Correct</span>"
      ],
      "text/plain": [
       "Correct"
      ]
     },
     "metadata": {},
     "output_type": "display_data"
    }
   ],
   "source": [
    "# TODO: Edit the function to return the correct grade for different scores\n",
    "def get_grade(score):\n",
    "    grade = \"A\"\n",
    "    if score >= 90:\n",
    "        grade = \"A\"\n",
    "    elif score >= 80:\n",
    "        grade = \"B\"\n",
    "    elif score >= 70:\n",
    "        grade = \"C\"\n",
    "    elif score >= 60:\n",
    "        grade = \"D\"\n",
    "    else:\n",
    "        grade = \"F\"\n",
    "    return grade\n",
    "    \n",
    "# Check your answer\n",
    "q1.check()"
   ]
  },
  {
   "cell_type": "code",
   "execution_count": 3,
   "id": "b9f9b452",
   "metadata": {
    "execution": {
     "iopub.execute_input": "2025-03-19T04:41:43.357245Z",
     "iopub.status.busy": "2025-03-19T04:41:43.356948Z",
     "iopub.status.idle": "2025-03-19T04:41:43.365179Z",
     "shell.execute_reply": "2025-03-19T04:41:43.364441Z"
    },
    "papermill": {
     "duration": 0.014333,
     "end_time": "2025-03-19T04:41:43.366430",
     "exception": false,
     "start_time": "2025-03-19T04:41:43.352097",
     "status": "completed"
    },
    "tags": []
   },
   "outputs": [
    {
     "data": {
      "application/javascript": [
       "parent.postMessage({\"jupyterEvent\": \"custom.exercise_interaction\", \"data\": {\"interactionType\": 2, \"questionType\": 2, \"questionId\": \"1_GetGrade\", \"learnToolsVersion\": \"0.3.4\", \"valueTowardsCompletion\": 0.0, \"failureMessage\": \"\", \"exceptionClass\": \"\", \"trace\": \"\", \"outcomeType\": 4}}, \"*\")"
      ],
      "text/plain": [
       "<IPython.core.display.Javascript object>"
      ]
     },
     "metadata": {},
     "output_type": "display_data"
    },
    {
     "data": {
      "text/markdown": [
       "<span style=\"color:#3366cc\">Hint:</span> `\"A\"` should only be returned if `score >= 90`.  Otherwise, if the score is between 80 and 89 (inclusive), or 70 and 79 (inclusive), 60 and 69 (inclusive), or less than 60, a different score should be returned.  Make sure that your function always returns one of: `\"A\"`, `\"B\"`, `\"C\"`, `\"D\"`, or `\"F\"`."
      ],
      "text/plain": [
       "Hint: `\"A\"` should only be returned if `score >= 90`.  Otherwise, if the score is between 80 and 89 (inclusive), or 70 and 79 (inclusive), 60 and 69 (inclusive), or less than 60, a different score should be returned.  Make sure that your function always returns one of: `\"A\"`, `\"B\"`, `\"C\"`, `\"D\"`, or `\"F\"`."
      ]
     },
     "metadata": {},
     "output_type": "display_data"
    },
    {
     "data": {
      "application/javascript": [
       "parent.postMessage({\"jupyterEvent\": \"custom.exercise_interaction\", \"data\": {\"interactionType\": 3, \"questionType\": 2, \"questionId\": \"1_GetGrade\", \"learnToolsVersion\": \"0.3.4\", \"valueTowardsCompletion\": 0.0, \"failureMessage\": \"\", \"exceptionClass\": \"\", \"trace\": \"\", \"outcomeType\": 4}}, \"*\")"
      ],
      "text/plain": [
       "<IPython.core.display.Javascript object>"
      ]
     },
     "metadata": {},
     "output_type": "display_data"
    },
    {
     "data": {
      "text/markdown": [
       "<span style=\"color:#33cc99\">Solution:</span> \n",
       "```python\n",
       "def get_grade(score):\n",
       "    if score >= 90:\n",
       "        grade = \"A\"\n",
       "    elif score >= 80:\n",
       "        grade = \"B\"\n",
       "    elif score >= 70:\n",
       "        grade = \"C\"\n",
       "    elif score >= 60:\n",
       "        grade = \"D\"\n",
       "    else:\n",
       "        grade = \"F\"\n",
       "    return grade\n",
       "\n",
       "```"
      ],
      "text/plain": [
       "Solution: \n",
       "```python\n",
       "def get_grade(score):\n",
       "    if score >= 90:\n",
       "        grade = \"A\"\n",
       "    elif score >= 80:\n",
       "        grade = \"B\"\n",
       "    elif score >= 70:\n",
       "        grade = \"C\"\n",
       "    elif score >= 60:\n",
       "        grade = \"D\"\n",
       "    else:\n",
       "        grade = \"F\"\n",
       "    return grade\n",
       "\n",
       "```"
      ]
     },
     "metadata": {},
     "output_type": "display_data"
    }
   ],
   "source": [
    "# Uncomment to see a hint\n",
    "q1.hint()\n",
    "\n",
    "# Uncomment to see the solution\n",
    "q1.solution()"
   ]
  },
  {
   "cell_type": "markdown",
   "id": "d2acdd0c",
   "metadata": {
    "papermill": {
     "duration": 0.004216,
     "end_time": "2025-03-19T04:41:43.375447",
     "exception": false,
     "start_time": "2025-03-19T04:41:43.371231",
     "status": "completed"
    },
    "tags": []
   },
   "source": [
    "# Question 2\n",
    "\n",
    "In the exercise for the previous lesson, you wrote a function `cost_of_project()` that estimated the price of rings for an online shop that sells rings with custom engravings.  This function did not use conditional statements.  In this exercise, you will rewrite the function to use conditional statements.  Recall that the online shop has the following price structure:\n",
    "- Gold plated rings have a base cost of \\\\$50, and you charge \\\\$7 per engraved unit.  \n",
    "- Solid gold rings have a base cost of \\\\$100, and you charge \\\\$10 per engraved unit.\n",
    "- Spaces and punctuation are counted as engraved units.\n",
    "\n",
    "Your function `cost_of_project()` takes two arguments:\n",
    "- `engraving` - a Python string with the text of the engraving\n",
    "- `solid_gold` - a Boolean that indicates whether the ring is solid gold\n",
    "\n",
    "It should return the cost of the project.  \n",
    "\n",
    "The function has been partially completed for you, and you need to fill in the blanks to complete the function."
   ]
  },
  {
   "cell_type": "code",
   "execution_count": 4,
   "id": "4ddaa6fc",
   "metadata": {
    "execution": {
     "iopub.execute_input": "2025-03-19T04:41:43.385445Z",
     "iopub.status.busy": "2025-03-19T04:41:43.385129Z",
     "iopub.status.idle": "2025-03-19T04:41:43.392816Z",
     "shell.execute_reply": "2025-03-19T04:41:43.392078Z"
    },
    "papermill": {
     "duration": 0.014086,
     "end_time": "2025-03-19T04:41:43.394002",
     "exception": false,
     "start_time": "2025-03-19T04:41:43.379916",
     "status": "completed"
    },
    "tags": []
   },
   "outputs": [
    {
     "data": {
      "application/javascript": [
       "parent.postMessage({\"jupyterEvent\": \"custom.exercise_interaction\", \"data\": {\"outcomeType\": 3, \"exceptionClass\": \"UnboundLocalError\", \"trace\": \"  File \\\"/usr/local/lib/python3.10/dist-packages/learntools/core/problem.py\\\", line 239, in check\\n    actual = fn(*args)\\n\\n  File \\\"<ipython-input-4-b1e0dd555b15>\\\", line 7, in cost_of_project\\n    cost = 50 + 7 * num_units\\n\", \"failureMessage\": \"When calling your function with arguments `['08/10/2000', False]`, Python raised the following exception... **`UnboundLocalError: local variable 'num_units' referenced before assignment`**\", \"interactionType\": 1, \"questionType\": 2, \"questionId\": \"2_CostProjectPartDeux\", \"learnToolsVersion\": \"0.3.4\", \"valueTowardsCompletion\": 0.0}}, \"*\")"
      ],
      "text/plain": [
       "<IPython.core.display.Javascript object>"
      ]
     },
     "metadata": {},
     "output_type": "display_data"
    },
    {
     "data": {
      "text/markdown": [
       "<span style=\"color:#cc3333\">Incorrect:</span> When calling your function with arguments `['08/10/2000', False]`, Python raised the following exception... **`UnboundLocalError: local variable 'num_units' referenced before assignment`**"
      ],
      "text/plain": [
       "Incorrect: When calling your function with arguments `['08/10/2000', False]`, Python raised the following exception... **`UnboundLocalError: local variable 'num_units' referenced before assignment`**"
      ]
     },
     "metadata": {},
     "output_type": "display_data"
    }
   ],
   "source": [
    "def cost_of_project(engraving, solid_gold):\n",
    "    if solid_gold == True:\n",
    "        num_units = len(engraving)\n",
    "    if solid_gold == True:\n",
    "        cost = 100 + 10 * num_units\n",
    "    else:\n",
    "        cost = 50 + 7 * num_units\n",
    "    return cost\n",
    "    if solid_gold == True:\n",
    "        cost = 100 + 10 * len(engraving)\n",
    "    else:\n",
    "        cost = 50 + 7 * len(engraving)\n",
    "    return cost\n",
    "\n",
    "# Check your answer\n",
    "q2.check()"
   ]
  },
  {
   "cell_type": "code",
   "execution_count": 5,
   "id": "5a906d96",
   "metadata": {
    "execution": {
     "iopub.execute_input": "2025-03-19T04:41:43.404867Z",
     "iopub.status.busy": "2025-03-19T04:41:43.404509Z",
     "iopub.status.idle": "2025-03-19T04:41:43.413543Z",
     "shell.execute_reply": "2025-03-19T04:41:43.412743Z"
    },
    "papermill": {
     "duration": 0.015685,
     "end_time": "2025-03-19T04:41:43.414690",
     "exception": false,
     "start_time": "2025-03-19T04:41:43.399005",
     "status": "completed"
    },
    "tags": []
   },
   "outputs": [
    {
     "data": {
      "application/javascript": [
       "parent.postMessage({\"jupyterEvent\": \"custom.exercise_interaction\", \"data\": {\"interactionType\": 2, \"questionType\": 2, \"questionId\": \"2_CostProjectPartDeux\", \"learnToolsVersion\": \"0.3.4\", \"valueTowardsCompletion\": 0.0, \"failureMessage\": \"\", \"exceptionClass\": \"\", \"trace\": \"\", \"outcomeType\": 4}}, \"*\")"
      ],
      "text/plain": [
       "<IPython.core.display.Javascript object>"
      ]
     },
     "metadata": {},
     "output_type": "display_data"
    },
    {
     "data": {
      "text/markdown": [
       "<span style=\"color:#3366cc\">Hint:</span> If `solid_gold = True`, then the cost of the ring is \\$100 (base cost), plus \\$10 times the length of the engraving.  You can get the length of the engraving with `len(engraving)`.  Otherwise, if `solid_gold = False`, then the cost of the ring is \\$50 (base cost), plus \\$7 times the length of the engraving."
      ],
      "text/plain": [
       "Hint: If `solid_gold = True`, then the cost of the ring is \\$100 (base cost), plus \\$10 times the length of the engraving.  You can get the length of the engraving with `len(engraving)`.  Otherwise, if `solid_gold = False`, then the cost of the ring is \\$50 (base cost), plus \\$7 times the length of the engraving."
      ]
     },
     "metadata": {},
     "output_type": "display_data"
    },
    {
     "data": {
      "application/javascript": [
       "parent.postMessage({\"jupyterEvent\": \"custom.exercise_interaction\", \"data\": {\"interactionType\": 3, \"questionType\": 2, \"questionId\": \"2_CostProjectPartDeux\", \"learnToolsVersion\": \"0.3.4\", \"valueTowardsCompletion\": 0.0, \"failureMessage\": \"\", \"exceptionClass\": \"\", \"trace\": \"\", \"outcomeType\": 4}}, \"*\")"
      ],
      "text/plain": [
       "<IPython.core.display.Javascript object>"
      ]
     },
     "metadata": {},
     "output_type": "display_data"
    },
    {
     "data": {
      "text/markdown": [
       "<span style=\"color:#33cc99\">Solution:</span> \n",
       "```python\n",
       "# option 1\n",
       "def cost_of_project(engraving, solid_gold):\n",
       "    num_units = len(engraving)\n",
       "    if solid_gold == True:\n",
       "        cost = 100 + 10 * num_units\n",
       "    else:\n",
       "        cost = 50 + 7 * num_units\n",
       "    return cost\n",
       "    \n",
       "# option 2 \n",
       "def cost_of_project(engraving, solid_gold):\n",
       "    if solid_gold == True:\n",
       "        cost = 100 + 10 * len(engraving)\n",
       "    else:\n",
       "        cost = 50 + 7 * len(engraving)\n",
       "    return cost\n",
       "\n",
       "```"
      ],
      "text/plain": [
       "Solution: \n",
       "```python\n",
       "# option 1\n",
       "def cost_of_project(engraving, solid_gold):\n",
       "    num_units = len(engraving)\n",
       "    if solid_gold == True:\n",
       "        cost = 100 + 10 * num_units\n",
       "    else:\n",
       "        cost = 50 + 7 * num_units\n",
       "    return cost\n",
       "    \n",
       "# option 2 \n",
       "def cost_of_project(engraving, solid_gold):\n",
       "    if solid_gold == True:\n",
       "        cost = 100 + 10 * len(engraving)\n",
       "    else:\n",
       "        cost = 50 + 7 * len(engraving)\n",
       "    return cost\n",
       "\n",
       "```"
      ]
     },
     "metadata": {},
     "output_type": "display_data"
    }
   ],
   "source": [
    "# Uncomment to see a hint\n",
    "q2.hint()\n",
    "\n",
    "# Uncomment to see the solution\n",
    "q2.solution()"
   ]
  },
  {
   "cell_type": "markdown",
   "id": "0e102310",
   "metadata": {
    "papermill": {
     "duration": 0.004552,
     "end_time": "2025-03-19T04:41:43.424245",
     "exception": false,
     "start_time": "2025-03-19T04:41:43.419693",
     "status": "completed"
    },
    "tags": []
   },
   "source": [
    "# Question 3\n",
    "\n",
    "You are a programmer at a water agency.  Recently, you have been tasked to write a function `get_water_bill()` that takes as input:\n",
    "- `num_gallons` = the number of gallons of water that a customer used that month.  (This will always be an integer with no decimal part.)\n",
    "\n",
    "It should output the water bill.  \n",
    "\n",
    "The water agency uses this pricing structure:\n",
    "<table style=\"width: 100%;\">\n",
    "<tbody>\n",
    "<tr><th><b>Tier</b></th><th><b>Amount in gallons</b></th><th><b>Price per 1000 gallons</b></th></tr>\n",
    "<tr>\n",
    "<td>Tier 1</td>\n",
    "<td>0 - 8,000</td>\n",
    "<td>\\$5</td>\n",
    "</tr>\n",
    "<tr>\n",
    "<td>Tier 2</td>\n",
    "<td>8,001 - 22,000</td>\n",
    "<td>\\$6</td>\n",
    "</tr>\n",
    "<tr>\n",
    "<td>Tier 3</td>\n",
    "<td>22,001 - 30,000</td>\n",
    "<td>\\$7</td>\n",
    "</tr>\n",
    "<tr>\n",
    "<td>Tier 4</td>\n",
    "<td>30,001+</td>\n",
    "<td>\\$10</td>\n",
    "</tr>\n",
    "</tbody>\n",
    "</table>\n",
    "\n",
    "For example: \n",
    "- Someone who uses 10,000 gallons of water in a month is placed in Tier 2, and needs to pay a water bill of \\\\$6 * 10 = \\\\$60.  In other words, `get_water_bill(10000)` should return `60.0`.\n",
    "- Someone who uses 25,000 gallons of water in a month is placed in Tier 3, and needs to pay a water bill of \\\\$7 * 25 = \\\\$175.  In other words, `get_water_bill(25000)` should return `175.0`.\n",
    "\n",
    "**Do not round your answer.**  So, your answer might return fractions of a penny."
   ]
  },
  {
   "cell_type": "code",
   "execution_count": 6,
   "id": "e8874494",
   "metadata": {
    "execution": {
     "iopub.execute_input": "2025-03-19T04:41:43.434633Z",
     "iopub.status.busy": "2025-03-19T04:41:43.434372Z",
     "iopub.status.idle": "2025-03-19T04:41:43.440613Z",
     "shell.execute_reply": "2025-03-19T04:41:43.439834Z"
    },
    "papermill": {
     "duration": 0.013015,
     "end_time": "2025-03-19T04:41:43.441909",
     "exception": false,
     "start_time": "2025-03-19T04:41:43.428894",
     "status": "completed"
    },
    "tags": []
   },
   "outputs": [
    {
     "data": {
      "application/javascript": [
       "parent.postMessage({\"jupyterEvent\": \"custom.exercise_interaction\", \"data\": {\"outcomeType\": 1, \"valueTowardsCompletion\": 0.2, \"interactionType\": 1, \"questionType\": 2, \"questionId\": \"3_GetWaterBill\", \"learnToolsVersion\": \"0.3.4\", \"failureMessage\": \"\", \"exceptionClass\": \"\", \"trace\": \"\"}}, \"*\")"
      ],
      "text/plain": [
       "<IPython.core.display.Javascript object>"
      ]
     },
     "metadata": {},
     "output_type": "display_data"
    },
    {
     "data": {
      "text/markdown": [
       "<span style=\"color:#33cc33\">Correct</span>"
      ],
      "text/plain": [
       "Correct"
      ]
     },
     "metadata": {},
     "output_type": "display_data"
    }
   ],
   "source": [
    "# TODO: Edit the function to return the correct bill for different\n",
    "# values of num_gallons\n",
    "def get_water_bill(num_gallons):\n",
    "    bill = 1000\n",
    "    if num_gallons <= 8000:\n",
    "        bill = 5 * num_gallons / 1000\n",
    "    elif num_gallons <= 22000:\n",
    "        bill = 6 * num_gallons / 1000\n",
    "    elif num_gallons <= 30000:\n",
    "        bill = 7 * num_gallons / 1000\n",
    "    else:\n",
    "        bill = 10 * num_gallons / 1000\n",
    "    return bill\n",
    "\n",
    "# Check your answer\n",
    "q3.check()"
   ]
  },
  {
   "cell_type": "code",
   "execution_count": 7,
   "id": "2bf2d3c7",
   "metadata": {
    "execution": {
     "iopub.execute_input": "2025-03-19T04:41:43.453177Z",
     "iopub.status.busy": "2025-03-19T04:41:43.452912Z",
     "iopub.status.idle": "2025-03-19T04:41:43.457705Z",
     "shell.execute_reply": "2025-03-19T04:41:43.457162Z"
    },
    "papermill": {
     "duration": 0.011414,
     "end_time": "2025-03-19T04:41:43.458712",
     "exception": false,
     "start_time": "2025-03-19T04:41:43.447298",
     "status": "completed"
    },
    "tags": []
   },
   "outputs": [
    {
     "data": {
      "application/javascript": [
       "parent.postMessage({\"jupyterEvent\": \"custom.exercise_interaction\", \"data\": {\"interactionType\": 3, \"questionType\": 2, \"questionId\": \"3_GetWaterBill\", \"learnToolsVersion\": \"0.3.4\", \"valueTowardsCompletion\": 0.0, \"failureMessage\": \"\", \"exceptionClass\": \"\", \"trace\": \"\", \"outcomeType\": 4}}, \"*\")"
      ],
      "text/plain": [
       "<IPython.core.display.Javascript object>"
      ]
     },
     "metadata": {},
     "output_type": "display_data"
    },
    {
     "data": {
      "text/markdown": [
       "<span style=\"color:#33cc99\">Solution:</span> \n",
       "```python\n",
       "def get_water_bill(num_gallons):\n",
       "    if num_gallons <= 8000:\n",
       "        bill = 5 * num_gallons / 1000\n",
       "    elif num_gallons <= 22000:\n",
       "        bill = 6 * num_gallons / 1000\n",
       "    elif num_gallons <= 30000:\n",
       "        bill = 7 * num_gallons / 1000\n",
       "    else:\n",
       "        bill = 10 * num_gallons / 1000\n",
       "    return bill\n",
       "\n",
       "```"
      ],
      "text/plain": [
       "Solution: \n",
       "```python\n",
       "def get_water_bill(num_gallons):\n",
       "    if num_gallons <= 8000:\n",
       "        bill = 5 * num_gallons / 1000\n",
       "    elif num_gallons <= 22000:\n",
       "        bill = 6 * num_gallons / 1000\n",
       "    elif num_gallons <= 30000:\n",
       "        bill = 7 * num_gallons / 1000\n",
       "    else:\n",
       "        bill = 10 * num_gallons / 1000\n",
       "    return bill\n",
       "\n",
       "```"
      ]
     },
     "metadata": {},
     "output_type": "display_data"
    }
   ],
   "source": [
    "# Uncomment to see a hint\n",
    "#q3.hint()\n",
    "\n",
    "# Uncomment to see the solution\n",
    "q3.solution()"
   ]
  },
  {
   "cell_type": "markdown",
   "id": "39689a59",
   "metadata": {
    "papermill": {
     "duration": 0.005003,
     "end_time": "2025-03-19T04:41:43.469159",
     "exception": false,
     "start_time": "2025-03-19T04:41:43.464156",
     "status": "completed"
    },
    "tags": []
   },
   "source": [
    "# Question 4\n",
    "\n",
    "You work for a company that provides data services.  For \\\\$100/month, your company provides 15 gigabytes (GB) of data.  Then, any additional data is billed at \\\\$0.10/MB (or \\\\$100/GB, since 1,000 MB are in 1 GB).\n",
    "\n",
    "Use the next code cell to write a function `get_phone_bill()` that takes as input:\n",
    "- `gb` = number of GB that the customer used in a month\n",
    "\n",
    "It should return the customer's total phone bill.\n",
    "\n",
    "For instance:\n",
    "- A customer who uses 10 GB of data in one month is billed only \\\\$100, since the usage stayed under 15 GB.  In other words, `get_phone_bill(10)` should return `100`.\n",
    "- A customer who uses 15.1 GB (or 15 GB + 100 MB) of data in one month has gone over by .1 GB, so they must pay \\\\$100 (cost of plan), plus \\\\$0.10 * 100 = \\\\$10, for a total bill of \\\\$110.  In other words, `get_phone_bill(15.1)` should return `110`.\n",
    "\n",
    "Do not round your answer."
   ]
  },
  {
   "cell_type": "code",
   "execution_count": 8,
   "id": "fa1473b6",
   "metadata": {
    "execution": {
     "iopub.execute_input": "2025-03-19T04:41:43.480729Z",
     "iopub.status.busy": "2025-03-19T04:41:43.480442Z",
     "iopub.status.idle": "2025-03-19T04:41:43.486924Z",
     "shell.execute_reply": "2025-03-19T04:41:43.486199Z"
    },
    "papermill": {
     "duration": 0.013726,
     "end_time": "2025-03-19T04:41:43.488031",
     "exception": false,
     "start_time": "2025-03-19T04:41:43.474305",
     "status": "completed"
    },
    "tags": []
   },
   "outputs": [
    {
     "data": {
      "application/javascript": [
       "parent.postMessage({\"jupyterEvent\": \"custom.exercise_interaction\", \"data\": {\"outcomeType\": 1, \"valueTowardsCompletion\": 0.2, \"interactionType\": 1, \"questionType\": 2, \"questionId\": \"4_GetPhoneBill\", \"learnToolsVersion\": \"0.3.4\", \"failureMessage\": \"\", \"exceptionClass\": \"\", \"trace\": \"\"}}, \"*\")"
      ],
      "text/plain": [
       "<IPython.core.display.Javascript object>"
      ]
     },
     "metadata": {},
     "output_type": "display_data"
    },
    {
     "data": {
      "text/markdown": [
       "<span style=\"color:#33cc33\">Correct</span>"
      ],
      "text/plain": [
       "Correct"
      ]
     },
     "metadata": {},
     "output_type": "display_data"
    }
   ],
   "source": [
    "# TODO: Edit the function to return the correct bill for different\n",
    "# values of GB\n",
    "def get_phone_bill(gb):\n",
    "    bill = 100\n",
    "    if gb <= 15:\n",
    "        bill = 100\n",
    "    else:\n",
    "        bill = 100 + (gb - 15) * 100\n",
    "    return bill\n",
    "\n",
    "# Check your answer\n",
    "q4.check()"
   ]
  },
  {
   "cell_type": "code",
   "execution_count": 9,
   "id": "737713a2",
   "metadata": {
    "execution": {
     "iopub.execute_input": "2025-03-19T04:41:43.500297Z",
     "iopub.status.busy": "2025-03-19T04:41:43.499950Z",
     "iopub.status.idle": "2025-03-19T04:41:43.507055Z",
     "shell.execute_reply": "2025-03-19T04:41:43.506388Z"
    },
    "papermill": {
     "duration": 0.01424,
     "end_time": "2025-03-19T04:41:43.508113",
     "exception": false,
     "start_time": "2025-03-19T04:41:43.493873",
     "status": "completed"
    },
    "tags": []
   },
   "outputs": [
    {
     "data": {
      "application/javascript": [
       "parent.postMessage({\"jupyterEvent\": \"custom.exercise_interaction\", \"data\": {\"interactionType\": 2, \"questionType\": 2, \"questionId\": \"4_GetPhoneBill\", \"learnToolsVersion\": \"0.3.4\", \"valueTowardsCompletion\": 0.0, \"failureMessage\": \"\", \"exceptionClass\": \"\", \"trace\": \"\", \"outcomeType\": 4}}, \"*\")"
      ],
      "text/plain": [
       "<IPython.core.display.Javascript object>"
      ]
     },
     "metadata": {},
     "output_type": "display_data"
    },
    {
     "data": {
      "text/markdown": [
       "<span style=\"color:#3366cc\">Hint:</span> \n",
       "Your solution should look something like:\n",
       "```python\n",
       "def get_phone_bill(gb):\n",
       "    if gb <= 15:\n",
       "        bill = ____\n",
       "    else:\n",
       "        bill = 100 + ____\n",
       "    return bill\n",
       "```\n"
      ],
      "text/plain": [
       "Hint: \n",
       "Your solution should look something like:\n",
       "```python\n",
       "def get_phone_bill(gb):\n",
       "    if gb <= 15:\n",
       "        bill = ____\n",
       "    else:\n",
       "        bill = 100 + ____\n",
       "    return bill\n",
       "```"
      ]
     },
     "metadata": {},
     "output_type": "display_data"
    },
    {
     "data": {
      "application/javascript": [
       "parent.postMessage({\"jupyterEvent\": \"custom.exercise_interaction\", \"data\": {\"interactionType\": 3, \"questionType\": 2, \"questionId\": \"4_GetPhoneBill\", \"learnToolsVersion\": \"0.3.4\", \"valueTowardsCompletion\": 0.0, \"failureMessage\": \"\", \"exceptionClass\": \"\", \"trace\": \"\", \"outcomeType\": 4}}, \"*\")"
      ],
      "text/plain": [
       "<IPython.core.display.Javascript object>"
      ]
     },
     "metadata": {},
     "output_type": "display_data"
    },
    {
     "data": {
      "text/markdown": [
       "<span style=\"color:#33cc99\">Solution:</span> \n",
       "```python\n",
       "def get_phone_bill(gb):\n",
       "    if gb <= 15:\n",
       "        bill = 100\n",
       "    else:\n",
       "        bill = 100 + (gb - 15) * 100\n",
       "    return bill\n",
       "\n",
       "```"
      ],
      "text/plain": [
       "Solution: \n",
       "```python\n",
       "def get_phone_bill(gb):\n",
       "    if gb <= 15:\n",
       "        bill = 100\n",
       "    else:\n",
       "        bill = 100 + (gb - 15) * 100\n",
       "    return bill\n",
       "\n",
       "```"
      ]
     },
     "metadata": {},
     "output_type": "display_data"
    }
   ],
   "source": [
    "# Uncomment to see a hint\n",
    "q4.hint()\n",
    "\n",
    "# Uncomment to see the solution\n",
    "q4.solution()"
   ]
  },
  {
   "cell_type": "markdown",
   "id": "cd57dccd",
   "metadata": {
    "papermill": {
     "duration": 0.005235,
     "end_time": "2025-03-19T04:41:43.519339",
     "exception": false,
     "start_time": "2025-03-19T04:41:43.514104",
     "status": "completed"
    },
    "tags": []
   },
   "source": [
    "# 🌶️ Question 5\n",
    "\n",
    "In Mexico, foods and beverages that are high in saturated fat, trans fat, sugar, sodium, and/or calories appear with warning labels that are designed to help consumers make healthy food choices.\n",
    "\n",
    "For instance, the [box of cookies](https://world.openfoodfacts.org/product/7501000673209/florentinas-gamesa) in the image below appears with two labels (in the upper right corner):\n",
    "- EXCESO CALORÍAS (in English, EXCESS CALORIES)\n",
    "- EXCESO AZÚCARES (in English, EXCESS SUGAR)\n",
    "\n",
    "<center><img src=\"https://storage.googleapis.com/kaggle-media/learn/images/VXYKHnM.png\" alt=\"drawing\" width=\"500\"/></center>\n",
    "\n",
    "In this question, you'll work with a function `get_labels()` that takes the nutritional details about a food item and prints the needed warning labels.  This function takes several inputs:\n",
    "- `food_type` = one of `\"solid\"` or `\"liquid\"`\n",
    "- `serving_size` = size of one serving (if solid, in grams; if liquid, in milliliters)\n",
    "- `calories_per_serving` = calories in one serving\n",
    "- `saturated_fat_g` = grams of saturated fat in one serving\n",
    "- `trans_fat_g` = grams of trans fat in one serving\n",
    "- `sodium_mg` = mg of sodium in one serving\n",
    "- `sugars_g` = grams of sugar in one serving\n",
    "\n",
    "Note that some of the code here should feel unfamiliar to you, since we have not shared the details of how some of the functions like `excess_sugar()` or `excess_saturated_fat()` work.  But at a high level, these are functions that return a value of `True` if the food is deemed to have an excess of sugar or saturated fat, respectively.  These functions are used within the `get_labels()` function, and whenever there is an excess (of sugar or saturated fat, but also of trans fat, sodium, or calories), it prints the corresponding label."
   ]
  },
  {
   "cell_type": "code",
   "execution_count": 10,
   "id": "b7e6950c",
   "metadata": {
    "execution": {
     "iopub.execute_input": "2025-03-19T04:41:43.531423Z",
     "iopub.status.busy": "2025-03-19T04:41:43.531130Z",
     "iopub.status.idle": "2025-03-19T04:41:43.537544Z",
     "shell.execute_reply": "2025-03-19T04:41:43.536859Z"
    },
    "papermill": {
     "duration": 0.013894,
     "end_time": "2025-03-19T04:41:43.538686",
     "exception": false,
     "start_time": "2025-03-19T04:41:43.524792",
     "status": "completed"
    },
    "tags": []
   },
   "outputs": [],
   "source": [
    "# import functions needed to make get_labels work\n",
    "from learntools.intro_to_programming.ex4q5 import excess_sugar, excess_saturated_fat, excess_trans_fat, excess_sodium, excess_calories\n",
    "\n",
    "def get_labels(food_type, serving_size, calories_per_serving, saturated_fat_g, trans_fat_g, sodium_mg, sugars_g):\n",
    "    # Print messages based on findings\n",
    "    if excess_sugar(sugars_g, calories_per_serving) == True:\n",
    "        print(\"EXCESO AZÚCARES / EXCESS SUGAR\")\n",
    "    if excess_saturated_fat(saturated_fat_g, calories_per_serving) == True:\n",
    "        print(\"EXCESO GRASAS SATURADAS / EXCESS SATURATED FAT\")\n",
    "    if excess_trans_fat(trans_fat_g, calories_per_serving) == True:\n",
    "        print(\"EXCESO GRASAS TRANS / EXCESS TRANS FAT\")\n",
    "    if excess_sodium(calories_per_serving, sodium_mg) == True:\n",
    "        print(\"EXCESO SODIO / EXCESS SODIUM\")\n",
    "    if excess_calories(food_type, calories_per_serving, serving_size) == True:\n",
    "        print(\"EXCESO CALORÍAS / EXCESS CALORIES\")"
   ]
  },
  {
   "cell_type": "markdown",
   "id": "1531adf8",
   "metadata": {
    "papermill": {
     "duration": 0.00509,
     "end_time": "2025-03-19T04:41:43.549619",
     "exception": false,
     "start_time": "2025-03-19T04:41:43.544529",
     "status": "completed"
    },
    "tags": []
   },
   "source": [
    "The next code cell demonstrates how to use `get_labels()` to get the warning labels that the food item should contain.  We begin with [bologna](https://world.openfoodfacts.org/product/4099100179378/bologna).  Here is [an image](https://storage.googleapis.com/kaggle-media/learn/images/Cfcx72e.png) with all of the nutritional information.  Note that for this food,\n",
    "- `food_type = \"solid\"` (because bologna is a solid and not a liquid)\n",
    "- `serving_size = 32` (the serving size is 32 grams)\n",
    "- `calories_per_serving = 110` (there are 110 calories per serving)\n",
    "- `saturated_fat_g = 2.5` (there are 2.5 grams of saturated fat per serving)\n",
    "- `trans_fat_g = 0` (there are 0 grams of trans fat per serving)\n",
    "- `sodium_mg = 400` (there are 400 mg of sodium per serving)\n",
    "- `sugars_g = 1` (the nutrition facts say <1g, but we will round it up to 1 gram per serving to be safe)\n",
    "\n",
    "By supplying all of these values to the function, we can print the warning labels."
   ]
  },
  {
   "cell_type": "code",
   "execution_count": 11,
   "id": "9a06bea3",
   "metadata": {
    "execution": {
     "iopub.execute_input": "2025-03-19T04:41:43.561319Z",
     "iopub.status.busy": "2025-03-19T04:41:43.560980Z",
     "iopub.status.idle": "2025-03-19T04:41:43.565045Z",
     "shell.execute_reply": "2025-03-19T04:41:43.564218Z"
    },
    "papermill": {
     "duration": 0.011261,
     "end_time": "2025-03-19T04:41:43.566194",
     "exception": false,
     "start_time": "2025-03-19T04:41:43.554933",
     "status": "completed"
    },
    "tags": []
   },
   "outputs": [
    {
     "name": "stdout",
     "output_type": "stream",
     "text": [
      "EXCESO GRASAS SATURADAS / EXCESS SATURATED FAT\n",
      "EXCESO SODIO / EXCESS SODIUM\n",
      "EXCESO CALORÍAS / EXCESS CALORIES\n"
     ]
    }
   ],
   "source": [
    "# bologna https://world.openfoodfacts.org/product/4099100179378/bologna\n",
    "get_labels(\"solid\", 32, 110, 2.5, 0, 400, 1)"
   ]
  },
  {
   "cell_type": "markdown",
   "id": "8da3d8c2",
   "metadata": {
    "papermill": {
     "duration": 0.00544,
     "end_time": "2025-03-19T04:41:43.577416",
     "exception": false,
     "start_time": "2025-03-19T04:41:43.571976",
     "status": "completed"
    },
    "tags": []
   },
   "source": [
    "This bologna has three labels, printed in the output above.\n",
    "\n",
    "For the rest of this question, you will use the same `get_labels()` function to determine the labels for more foods.  This question is designed to help you get practice with feeling comfortable with code that other people have written, and where you don't have time to review every single line of code before interacting with it.  For instance, when you take the [Intro to Machine Learning course](http://www.kaggle.com/learn/intro-to-machine-learning), you'll work with a Python package called \"scikit-learn\", which is a large collection of code that you'll learn how to run without reviewing all of the code in detail (as it would take too long, and you can trust that it was implemented correctly).\n",
    "\n",
    "In general, as you continue coding in Python, you will often be running code that other people have written.  This is common practice for advanced programmers.\n",
    "\n",
    "In the next code cell, fill in the values for [this cereal](https://world.openfoodfacts.org/product/7501008023624/zucaritas-kellogg-s).  Here is [an image](https://storage.googleapis.com/kaggle-media/learn/images/MUxzHVU.png) with all of the nutritional information.\n",
    "\n",
    "**Note**: running the line of code below as-is will return an error.  You have to fill in the nutritional values first."
   ]
  },
  {
   "cell_type": "code",
   "execution_count": 12,
   "id": "8ea38751",
   "metadata": {
    "execution": {
     "iopub.execute_input": "2025-03-19T04:41:43.589452Z",
     "iopub.status.busy": "2025-03-19T04:41:43.589145Z",
     "iopub.status.idle": "2025-03-19T04:41:43.592353Z",
     "shell.execute_reply": "2025-03-19T04:41:43.591417Z"
    },
    "papermill": {
     "duration": 0.010949,
     "end_time": "2025-03-19T04:41:43.593836",
     "exception": false,
     "start_time": "2025-03-19T04:41:43.582887",
     "status": "completed"
    },
    "tags": []
   },
   "outputs": [],
   "source": [
    "# zucaritas cereal https://world.openfoodfacts.org/product/7501008023624/zucaritas-kellogg-s\n",
    "# TODO: Uncomment the line below, fill in the values, and run the function\n",
    "#get_labels()"
   ]
  },
  {
   "cell_type": "markdown",
   "id": "67ae861b",
   "metadata": {
    "papermill": {
     "duration": 0.005099,
     "end_time": "2025-03-19T04:41:43.605163",
     "exception": false,
     "start_time": "2025-03-19T04:41:43.600064",
     "status": "completed"
    },
    "tags": []
   },
   "source": [
    "Next, try [these mozzarella sticks](https://world-es.openfoodfacts.org/producto/0062325540104/mozzarella-cheese-sticks).  Here is [an image](https://storage.googleapis.com/kaggle-media/learn/images/rcdB7VH.png) with all of the nutritional information."
   ]
  },
  {
   "cell_type": "code",
   "execution_count": 13,
   "id": "f87edac2",
   "metadata": {
    "execution": {
     "iopub.execute_input": "2025-03-19T04:41:43.617004Z",
     "iopub.status.busy": "2025-03-19T04:41:43.616724Z",
     "iopub.status.idle": "2025-03-19T04:41:43.619701Z",
     "shell.execute_reply": "2025-03-19T04:41:43.619054Z"
    },
    "papermill": {
     "duration": 0.01045,
     "end_time": "2025-03-19T04:41:43.620914",
     "exception": false,
     "start_time": "2025-03-19T04:41:43.610464",
     "status": "completed"
    },
    "tags": []
   },
   "outputs": [],
   "source": [
    "# mozzarella sticks https://world-es.openfoodfacts.org/producto/0062325540104/mozzarella-cheese-sticks\n",
    "# TODO: Uncomment the line below, fill in the values, and run the function\n",
    "#get_labels()"
   ]
  },
  {
   "cell_type": "markdown",
   "id": "e44de88a",
   "metadata": {
    "papermill": {
     "duration": 0.005124,
     "end_time": "2025-03-19T04:41:43.631598",
     "exception": false,
     "start_time": "2025-03-19T04:41:43.626474",
     "status": "completed"
    },
    "tags": []
   },
   "source": [
    "Feel free to skip to the end of the notebook now and run `q5.check()` to complete the exercise.  If you want to try more foods, \n",
    "- try [these cookies](https://world.openfoodfacts.org/product/0069700118545/biscuits-au-sucre-pretraches).  Here is [an image](https://storage.googleapis.com/kaggle-media/learn/images/2Bc271o.png) with all of the nutritional information.\n",
    "- try [this soda](https://world-es.openfoodfacts.org/producto/0078000113464/orange-soda-sunkist).  Here is [an image](https://storage.googleapis.com/kaggle-media/learn/images/RsBYa8E.png) with all of the nutritional information.\n",
    "\n",
    "Use the two code cells below for this."
   ]
  },
  {
   "cell_type": "code",
   "execution_count": 14,
   "id": "0ecf1ff3",
   "metadata": {
    "execution": {
     "iopub.execute_input": "2025-03-19T04:41:43.643310Z",
     "iopub.status.busy": "2025-03-19T04:41:43.642992Z",
     "iopub.status.idle": "2025-03-19T04:41:43.646094Z",
     "shell.execute_reply": "2025-03-19T04:41:43.645344Z"
    },
    "papermill": {
     "duration": 0.010476,
     "end_time": "2025-03-19T04:41:43.647357",
     "exception": false,
     "start_time": "2025-03-19T04:41:43.636881",
     "status": "completed"
    },
    "tags": []
   },
   "outputs": [],
   "source": [
    "# pillsbury cookies https://world.openfoodfacts.org/product/0069700118545/biscuits-au-sucre-pretraches\n",
    "# TODO: Uncomment the line below, fill in the values, and run the function\n",
    "#get_labels()"
   ]
  },
  {
   "cell_type": "code",
   "execution_count": 15,
   "id": "84ad234e",
   "metadata": {
    "execution": {
     "iopub.execute_input": "2025-03-19T04:41:43.658786Z",
     "iopub.status.busy": "2025-03-19T04:41:43.658534Z",
     "iopub.status.idle": "2025-03-19T04:41:43.661437Z",
     "shell.execute_reply": "2025-03-19T04:41:43.660798Z"
    },
    "papermill": {
     "duration": 0.009869,
     "end_time": "2025-03-19T04:41:43.662532",
     "exception": false,
     "start_time": "2025-03-19T04:41:43.652663",
     "status": "completed"
    },
    "tags": []
   },
   "outputs": [],
   "source": [
    "# sunkist orange soda https://world-es.openfoodfacts.org/producto/0078000113464/orange-soda-sunkist\n",
    "# TODO: Uncomment the line below, fill in the values, and run the function\n",
    "#get_labels()"
   ]
  },
  {
   "cell_type": "markdown",
   "id": "b6631017",
   "metadata": {
    "papermill": {
     "duration": 0.005056,
     "end_time": "2025-03-19T04:41:43.673123",
     "exception": false,
     "start_time": "2025-03-19T04:41:43.668067",
     "status": "completed"
    },
    "tags": []
   },
   "source": [
    "Once you have finished investigating the food items in this question, run the final code cell to get credit for completing this problem."
   ]
  },
  {
   "cell_type": "code",
   "execution_count": 16,
   "id": "7e1ca2af",
   "metadata": {
    "execution": {
     "iopub.execute_input": "2025-03-19T04:41:43.684911Z",
     "iopub.status.busy": "2025-03-19T04:41:43.684616Z",
     "iopub.status.idle": "2025-03-19T04:41:43.690626Z",
     "shell.execute_reply": "2025-03-19T04:41:43.689636Z"
    },
    "papermill": {
     "duration": 0.01338,
     "end_time": "2025-03-19T04:41:43.691889",
     "exception": false,
     "start_time": "2025-03-19T04:41:43.678509",
     "status": "completed"
    },
    "tags": []
   },
   "outputs": [
    {
     "data": {
      "application/javascript": [
       "parent.postMessage({\"jupyterEvent\": \"custom.exercise_interaction\", \"data\": {\"outcomeType\": 1, \"valueTowardsCompletion\": 0.2, \"interactionType\": 1, \"questionType\": 2, \"questionId\": \"5_GetLabels\", \"learnToolsVersion\": \"0.3.4\", \"failureMessage\": \"\", \"exceptionClass\": \"\", \"trace\": \"\"}}, \"*\")"
      ],
      "text/plain": [
       "<IPython.core.display.Javascript object>"
      ]
     },
     "metadata": {},
     "output_type": "display_data"
    },
    {
     "data": {
      "text/markdown": [
       "<span style=\"color:#33cc33\">Once you have determined the labels for all of the food items, you're ready to move on to the next lesson!</span>"
      ],
      "text/plain": [
       "Once you have determined the labels for all of the food items, you're ready to move on to the next lesson!"
      ]
     },
     "metadata": {},
     "output_type": "display_data"
    }
   ],
   "source": [
    "# Get credit for completing the problem\n",
    "q5.check()"
   ]
  },
  {
   "cell_type": "markdown",
   "id": "7f9a1f17",
   "metadata": {
    "papermill": {
     "duration": 0.00537,
     "end_time": "2025-03-19T04:41:43.703624",
     "exception": false,
     "start_time": "2025-03-19T04:41:43.698254",
     "status": "completed"
    },
    "tags": []
   },
   "source": [
    "# Keep going\n",
    "\n",
    "Continue to the next lesson to **[learn about Python lists](https://www.kaggle.com/alexisbcook/intro-to-lists)**."
   ]
  },
  {
   "cell_type": "markdown",
   "id": "920f7585",
   "metadata": {
    "papermill": {
     "duration": 0.005256,
     "end_time": "2025-03-19T04:41:43.714435",
     "exception": false,
     "start_time": "2025-03-19T04:41:43.709179",
     "status": "completed"
    },
    "tags": []
   },
   "source": [
    "---\n",
    "\n",
    "\n",
    "\n",
    "\n",
    "*Have questions or comments? Visit the [course discussion forum](https://www.kaggle.com/learn/intro-to-programming/discussion) to chat with other learners.*"
   ]
  }
 ],
 "metadata": {
  "kaggle": {
   "accelerator": "none",
   "dataSources": [],
   "isGpuEnabled": false,
   "isInternetEnabled": false,
   "language": "python",
   "sourceType": "notebook"
  },
  "kernelspec": {
   "display_name": "Python 3",
   "language": "python",
   "name": "python3"
  },
  "language_info": {
   "codemirror_mode": {
    "name": "ipython",
    "version": 3
   },
   "file_extension": ".py",
   "mimetype": "text/x-python",
   "name": "python",
   "nbconvert_exporter": "python",
   "pygments_lexer": "ipython3",
   "version": "3.10.12"
  },
  "papermill": {
   "default_parameters": {},
   "duration": 4.001824,
   "end_time": "2025-03-19T04:41:44.137739",
   "environment_variables": {},
   "exception": null,
   "input_path": "__notebook__.ipynb",
   "output_path": "__notebook__.ipynb",
   "parameters": {},
   "start_time": "2025-03-19T04:41:40.135915",
   "version": "2.6.0"
  }
 },
 "nbformat": 4,
 "nbformat_minor": 5
}
